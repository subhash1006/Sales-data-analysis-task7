{
 "cells": [
  {
   "cell_type": "markdown",
   "id": "36183ef1-4b9e-4c0b-bbdd-8362ac0ad302",
   "metadata": {},
   "source": [
    "# 1.*IMPORT LIBRARIES*"
   ]
  },
  {
   "cell_type": "code",
   "execution_count": 2,
   "id": "1f28268e-44c0-4390-9882-36e7f95f8f55",
   "metadata": {},
   "outputs": [],
   "source": [
    "import sqlite3\n",
    "import pandas as pd\n",
    "import matplotlib.pyplot as plt"
   ]
  },
  {
   "cell_type": "markdown",
   "id": "df5fe34d-b8c8-4c76-9a66-ea2f7d1ba380",
   "metadata": {},
   "source": [
    "# 2.*CREATE TABLE AND INSERT DATA*"
   ]
  },
  {
   "cell_type": "markdown",
   "id": "a58bf492-f076-49b7-b242-3387e8b5f7df",
   "metadata": {},
   "source": [
    "#### Connect to SQLite database"
   ]
  },
  {
   "cell_type": "code",
   "execution_count": 5,
   "id": "4cbce7db-dc5b-4f61-b4bb-19899638ce95",
   "metadata": {},
   "outputs": [],
   "source": [
    "# Connect to SQLite database \n",
    "conn = sqlite3.connect(\"sales_data.db\")\n",
    "cursor = conn.cursor()"
   ]
  },
  {
   "cell_type": "markdown",
   "id": "d223cebb-01c7-4cd2-ae5e-46eb261490a9",
   "metadata": {},
   "source": [
    "#### Create table"
   ]
  },
  {
   "cell_type": "code",
   "execution_count": 24,
   "id": "a9323619-8935-45bd-a70a-0262d6b4f6a7",
   "metadata": {},
   "outputs": [
    {
     "data": {
      "text/plain": [
       "<sqlite3.Cursor at 0x28c17ca29c0>"
      ]
     },
     "execution_count": 24,
     "metadata": {},
     "output_type": "execute_result"
    }
   ],
   "source": [
    "cursor.execute('''\n",
    "CREATE TABLE IF NOT EXISTS sales (\n",
    "    id INTEGER PRIMARY KEY,\n",
    "    product TEXT,\n",
    "    quantity INTEGER,\n",
    "    price REAL\n",
    ")\n",
    "''')"
   ]
  },
  {
   "cell_type": "markdown",
   "id": "12fd166f-0206-40df-9b50-39f6beeb1cad",
   "metadata": {},
   "source": [
    "#### Insert professional sample data"
   ]
  },
  {
   "cell_type": "code",
   "execution_count": 26,
   "id": "69c93f88-551d-4739-90eb-90a3a43680af",
   "metadata": {},
   "outputs": [
    {
     "name": "stdout",
     "output_type": "stream",
     "text": [
      "Sample data inserted successfully.\n"
     ]
    }
   ],
   "source": [
    "sample_data = [\n",
    "    ('papaya', 4, 55000.0),\n",
    "    ('Mango', 10, 1500.0),\n",
    "    ('Grape', 6, 25000.0),\n",
    "    ('Laptop', 2, 55000.0),\n",
    "    ('Headphones', 5, 1500.0)\n",
    "]\n",
    "\n",
    "cursor.executemany(\"INSERT INTO sales (product, quantity, price) VALUES (?, ?, ?)\", sample_data)\n",
    "conn.commit()\n",
    "\n",
    "print(\"Sample data inserted successfully.\")"
   ]
  },
  {
   "cell_type": "markdown",
   "id": "d70a8605-84fb-4d89-8fc2-0d295b7faaa1",
   "metadata": {},
   "source": [
    "# 3.*EXECUTE SQL AND LOAD WITH PANDAS*"
   ]
  },
  {
   "cell_type": "markdown",
   "id": "7d9ab28a-8116-4e8c-938e-0a71369e3597",
   "metadata": {},
   "source": [
    "#### SQL query to summarize total quantity and revenue"
   ]
  },
  {
   "cell_type": "code",
   "execution_count": 40,
   "id": "74f1d996-0552-4f46-af07-74acd858aaad",
   "metadata": {},
   "outputs": [],
   "source": [
    "query = '''\n",
    "SELECT \n",
    "    product, \n",
    "    SUM(quantity) AS total_quantity, \n",
    "    SUM(quantity * price) AS total_revenue\n",
    "FROM sales\n",
    "GROUP BY product\n",
    "'''"
   ]
  },
  {
   "cell_type": "markdown",
   "id": "babbabec-7ff4-41b1-84f8-c15a39b30880",
   "metadata": {},
   "source": [
    "#### Load result into a pandas DataFrame"
   ]
  },
  {
   "cell_type": "code",
   "execution_count": 42,
   "id": "d29a81c2-468a-47d7-a682-1d6308334252",
   "metadata": {},
   "outputs": [],
   "source": [
    "df = pd.read_sql_query(query, conn)"
   ]
  },
  {
   "cell_type": "markdown",
   "id": "f3b937ba-33b1-41de-8c3a-f84948af2918",
   "metadata": {},
   "source": [
    "#### Display the result"
   ]
  },
  {
   "cell_type": "code",
   "execution_count": 44,
   "id": "2f2bcc97-c33e-4484-9df9-3da79a0dd027",
   "metadata": {},
   "outputs": [
    {
     "name": "stdout",
     "output_type": "stream",
     "text": [
      "Sales_data.db\n",
      "      product  total_quantity  total_revenue\n",
      "0  Headphones              30        22500.0\n",
      "1    Keyboard              46        57000.0\n",
      "2      Laptop              32      1650000.0\n",
      "3     Monitor              18       216000.0\n",
      "4       Mouse              69        32000.0\n",
      "5  Smartphone               6       150000.0\n",
      "6   USB Cable             120        24000.0\n"
     ]
    }
   ],
   "source": [
    "print(\"Sales_data.db\")\n",
    "print(df)"
   ]
  },
  {
   "cell_type": "markdown",
   "id": "5068076f-0157-4313-aa95-ea65550d5c5b",
   "metadata": {},
   "source": [
    "# 4.*PLOT THE BAR CHART*"
   ]
  },
  {
   "cell_type": "markdown",
   "id": "d4d12669-9544-4423-8f87-7195cc909a43",
   "metadata": {},
   "source": [
    "#### Plot revenue per product\n"
   ]
  },
  {
   "cell_type": "code",
   "execution_count": null,
   "id": "6ba1b104-5fb9-47be-b25a-239b03733433",
   "metadata": {},
   "outputs": [],
   "source": [
    "df.plot(kind='bar', x='product', y='total_revenue', legend=False, color='skyblue')\n",
    "plt.title('Total Revenue by Product')\n",
    "plt.xlabel('Product')\n",
    "plt.ylabel('Revenue (INR)')\n",
    "plt.tight_layout()\n",
    "plt.grid(axis='y', linestyle='--', alpha=0.7)\n",
    "plt.show()"
   ]
  },
  {
   "cell_type": "markdown",
   "id": "7da86b75-d89a-49ce-9fcf-984e3704aac4",
   "metadata": {},
   "source": [
    "#### Save the chart"
   ]
  },
  {
   "cell_type": "code",
   "execution_count": null,
   "id": "6565dd32-58e1-465c-94d9-35877f73ebe9",
   "metadata": {},
   "outputs": [],
   "source": [
    "plt.savefig(\"sales_chart.png\")"
   ]
  },
  {
   "cell_type": "markdown",
   "id": "f1b512e6-39fb-4a57-bed6-8f80e23993fe",
   "metadata": {},
   "source": [
    "# 5.*CLOSE CONNECTION*"
   ]
  },
  {
   "cell_type": "code",
   "execution_count": null,
   "id": "9ba1c14d-60d2-4fb6-a7e3-adbc9225b528",
   "metadata": {},
   "outputs": [],
   "source": [
    "conn.close()"
   ]
  }
 ],
 "metadata": {
  "kernelspec": {
   "display_name": "Python 3 (ipykernel)",
   "language": "python",
   "name": "python3"
  },
  "language_info": {
   "codemirror_mode": {
    "name": "ipython",
    "version": 3
   },
   "file_extension": ".py",
   "mimetype": "text/x-python",
   "name": "python",
   "nbconvert_exporter": "python",
   "pygments_lexer": "ipython3",
   "version": "3.11.7"
  }
 },
 "nbformat": 4,
 "nbformat_minor": 5
}
